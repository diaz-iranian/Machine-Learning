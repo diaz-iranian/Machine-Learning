{
  "nbformat": 4,
  "nbformat_minor": 0,
  "metadata": {
    "colab": {
      "name": "Analytics Data E-commerce.ipynb",
      "provenance": [],
      "authorship_tag": "ABX9TyN2JxQ9d/Cox2FagQ9aLFFo",
      "include_colab_link": true
    },
    "kernelspec": {
      "name": "python3",
      "display_name": "Python 3"
    }
  },
  "cells": [
    {
      "cell_type": "markdown",
      "metadata": {
        "id": "view-in-github",
        "colab_type": "text"
      },
      "source": [
        "<a href=\"https://colab.research.google.com/github/diaz-iranian/Machine-Learning/blob/master/Analytics_Data_E_commerce.ipynb\" target=\"_parent\"><img src=\"https://colab.research.google.com/assets/colab-badge.svg\" alt=\"Open In Colab\"/></a>"
      ]
    },
    {
      "cell_type": "code",
      "metadata": {
        "id": "MDF5CqKUPreh",
        "colab_type": "code",
        "colab": {}
      },
      "source": [
        "import pandas as pd\n",
        "import numpy as np\n",
        "import matplotlib.pyplot as plt\n",
        "import seaborn as sns\n",
        "import plotly.graph_objects as go\n",
        "from fbprophet import Prophet\n",
        "import pycountry\n",
        "import plotly.express as px"
      ],
      "execution_count": 0,
      "outputs": []
    },
    {
      "cell_type": "code",
      "metadata": {
        "id": "8PDwaqjtQy-1",
        "colab_type": "code",
        "colab": {
          "base_uri": "https://localhost:8080/",
          "height": 359
        },
        "outputId": "8f7017b8-ba04-409b-ef0e-51fc2343e65b"
      },
      "source": [
        "df = pd.read_csv('./products.csv')\n",
        "df.head(10)"
      ],
      "execution_count": 8,
      "outputs": [
        {
          "output_type": "execute_result",
          "data": {
            "text/html": [
              "<div>\n",
              "<style scoped>\n",
              "    .dataframe tbody tr th:only-of-type {\n",
              "        vertical-align: middle;\n",
              "    }\n",
              "\n",
              "    .dataframe tbody tr th {\n",
              "        vertical-align: top;\n",
              "    }\n",
              "\n",
              "    .dataframe thead th {\n",
              "        text-align: right;\n",
              "    }\n",
              "</style>\n",
              "<table border=\"1\" class=\"dataframe\">\n",
              "  <thead>\n",
              "    <tr style=\"text-align: right;\">\n",
              "      <th></th>\n",
              "      <th>SKU</th>\n",
              "      <th>name</th>\n",
              "      <th>orderedQuantity</th>\n",
              "      <th>stockLevel</th>\n",
              "      <th>restockingLeadTime</th>\n",
              "    </tr>\n",
              "  </thead>\n",
              "  <tbody>\n",
              "    <tr>\n",
              "      <th>0</th>\n",
              "      <td>GGOEGDHQ014899</td>\n",
              "      <td>20 oz Stainless Steel Insulated Tumbler</td>\n",
              "      <td>499</td>\n",
              "      <td>652</td>\n",
              "      <td>2</td>\n",
              "    </tr>\n",
              "    <tr>\n",
              "      <th>1</th>\n",
              "      <td>GGOEGOAB022499</td>\n",
              "      <td>Satin Black Ballpoint Pen</td>\n",
              "      <td>403</td>\n",
              "      <td>477</td>\n",
              "      <td>2</td>\n",
              "    </tr>\n",
              "    <tr>\n",
              "      <th>2</th>\n",
              "      <td>GGOEYHPB072210</td>\n",
              "      <td>Twill Cap</td>\n",
              "      <td>1429</td>\n",
              "      <td>1997</td>\n",
              "      <td>2</td>\n",
              "    </tr>\n",
              "    <tr>\n",
              "      <th>3</th>\n",
              "      <td>GGOEGEVB071799</td>\n",
              "      <td>Pocket Bluetooth Speaker</td>\n",
              "      <td>214</td>\n",
              "      <td>246</td>\n",
              "      <td>2</td>\n",
              "    </tr>\n",
              "    <tr>\n",
              "      <th>4</th>\n",
              "      <td>GGOEYOLR018699</td>\n",
              "      <td>Leatherette Notebook Combo</td>\n",
              "      <td>1148</td>\n",
              "      <td>1276</td>\n",
              "      <td>2</td>\n",
              "    </tr>\n",
              "    <tr>\n",
              "      <th>5</th>\n",
              "      <td>GGOEGOXQ016399</td>\n",
              "      <td>Badge Holder</td>\n",
              "      <td>916</td>\n",
              "      <td>1186</td>\n",
              "      <td>2</td>\n",
              "    </tr>\n",
              "    <tr>\n",
              "      <th>6</th>\n",
              "      <td>GGOEGAAX0074</td>\n",
              "      <td>22 oz Water Bottle</td>\n",
              "      <td>8942</td>\n",
              "      <td>15607</td>\n",
              "      <td>2</td>\n",
              "    </tr>\n",
              "    <tr>\n",
              "      <th>7</th>\n",
              "      <td>GGOEGHPB003410</td>\n",
              "      <td>Snapback Hat Black</td>\n",
              "      <td>230</td>\n",
              "      <td>105</td>\n",
              "      <td>3</td>\n",
              "    </tr>\n",
              "    <tr>\n",
              "      <th>8</th>\n",
              "      <td>GGOEGOAA017199</td>\n",
              "      <td>Rubber Grip Ballpoint Pen 4 Pack</td>\n",
              "      <td>1515</td>\n",
              "      <td>1791</td>\n",
              "      <td>3</td>\n",
              "    </tr>\n",
              "    <tr>\n",
              "      <th>9</th>\n",
              "      <td>GGOEGFKQ020399</td>\n",
              "      <td>Laptop and Cell Phone Stickers</td>\n",
              "      <td>1033</td>\n",
              "      <td>1516</td>\n",
              "      <td>3</td>\n",
              "    </tr>\n",
              "  </tbody>\n",
              "</table>\n",
              "</div>"
            ],
            "text/plain": [
              "              SKU  ... restockingLeadTime\n",
              "0  GGOEGDHQ014899  ...                  2\n",
              "1  GGOEGOAB022499  ...                  2\n",
              "2  GGOEYHPB072210  ...                  2\n",
              "3  GGOEGEVB071799  ...                  2\n",
              "4  GGOEYOLR018699  ...                  2\n",
              "5  GGOEGOXQ016399  ...                  2\n",
              "6    GGOEGAAX0074  ...                  2\n",
              "7  GGOEGHPB003410  ...                  3\n",
              "8  GGOEGOAA017199  ...                  3\n",
              "9  GGOEGFKQ020399  ...                  3\n",
              "\n",
              "[10 rows x 5 columns]"
            ]
          },
          "metadata": {
            "tags": []
          },
          "execution_count": 8
        }
      ]
    },
    {
      "cell_type": "code",
      "metadata": {
        "id": "2uvpJPybRMvh",
        "colab_type": "code",
        "colab": {
          "base_uri": "https://localhost:8080/",
          "height": 204
        },
        "outputId": "05f098c5-84b7-4684-951f-80766ac14dab"
      },
      "source": [
        "df.tail()"
      ],
      "execution_count": 9,
      "outputs": [
        {
          "output_type": "execute_result",
          "data": {
            "text/html": [
              "<div>\n",
              "<style scoped>\n",
              "    .dataframe tbody tr th:only-of-type {\n",
              "        vertical-align: middle;\n",
              "    }\n",
              "\n",
              "    .dataframe tbody tr th {\n",
              "        vertical-align: top;\n",
              "    }\n",
              "\n",
              "    .dataframe thead th {\n",
              "        text-align: right;\n",
              "    }\n",
              "</style>\n",
              "<table border=\"1\" class=\"dataframe\">\n",
              "  <thead>\n",
              "    <tr style=\"text-align: right;\">\n",
              "      <th></th>\n",
              "      <th>SKU</th>\n",
              "      <th>name</th>\n",
              "      <th>orderedQuantity</th>\n",
              "      <th>stockLevel</th>\n",
              "      <th>restockingLeadTime</th>\n",
              "    </tr>\n",
              "  </thead>\n",
              "  <tbody>\n",
              "    <tr>\n",
              "      <th>1085</th>\n",
              "      <td>GGOEGAWQ062948</td>\n",
              "      <td>Baby Essentials Set</td>\n",
              "      <td>261</td>\n",
              "      <td>77</td>\n",
              "      <td>10</td>\n",
              "    </tr>\n",
              "    <tr>\n",
              "      <th>1086</th>\n",
              "      <td>GGOEAAYC068756</td>\n",
              "      <td>Android Youth Short Sleeve T-shirt Aqua</td>\n",
              "      <td>64</td>\n",
              "      <td>77</td>\n",
              "      <td>13</td>\n",
              "    </tr>\n",
              "    <tr>\n",
              "      <th>1087</th>\n",
              "      <td>GGOEGGCX056199</td>\n",
              "      <td>Gift Card- $100.00</td>\n",
              "      <td>45</td>\n",
              "      <td>77</td>\n",
              "      <td>10</td>\n",
              "    </tr>\n",
              "    <tr>\n",
              "      <th>1088</th>\n",
              "      <td>GGOEAAYC068725</td>\n",
              "      <td>Android Youth Short Sleeve T-shirt Aqua</td>\n",
              "      <td>51</td>\n",
              "      <td>77</td>\n",
              "      <td>7</td>\n",
              "    </tr>\n",
              "    <tr>\n",
              "      <th>1089</th>\n",
              "      <td>GGOEGAAX0299</td>\n",
              "      <td>Women's V-Neck Tee Charcoal</td>\n",
              "      <td>51</td>\n",
              "      <td>77</td>\n",
              "      <td>8</td>\n",
              "    </tr>\n",
              "  </tbody>\n",
              "</table>\n",
              "</div>"
            ],
            "text/plain": [
              "                 SKU  ... restockingLeadTime\n",
              "1085  GGOEGAWQ062948  ...                 10\n",
              "1086  GGOEAAYC068756  ...                 13\n",
              "1087  GGOEGGCX056199  ...                 10\n",
              "1088  GGOEAAYC068725  ...                  7\n",
              "1089    GGOEGAAX0299  ...                  8\n",
              "\n",
              "[5 rows x 5 columns]"
            ]
          },
          "metadata": {
            "tags": []
          },
          "execution_count": 9
        }
      ]
    },
    {
      "cell_type": "code",
      "metadata": {
        "id": "y-RYN3FARTQS",
        "colab_type": "code",
        "colab": {
          "base_uri": "https://localhost:8080/",
          "height": 34
        },
        "outputId": "41874400-ef4d-40c1-f503-a015aa83287c"
      },
      "source": [
        "df.shape"
      ],
      "execution_count": 10,
      "outputs": [
        {
          "output_type": "execute_result",
          "data": {
            "text/plain": [
              "(1090, 5)"
            ]
          },
          "metadata": {
            "tags": []
          },
          "execution_count": 10
        }
      ]
    },
    {
      "cell_type": "code",
      "metadata": {
        "id": "qjsuT2BsRgpu",
        "colab_type": "code",
        "colab": {
          "base_uri": "https://localhost:8080/",
          "height": 419
        },
        "outputId": "a4e92a47-b28c-4e61-f091-d1782b30c80e"
      },
      "source": [
        "df2 = df.groupby([\"SKU\", \"name\"])[['SKU', 'name', 'orderedQuantity', 'stockLevel', 'restockingLeadTime']].sum().reset_index()\n",
        "df2"
      ],
      "execution_count": 11,
      "outputs": [
        {
          "output_type": "execute_result",
          "data": {
            "text/html": [
              "<div>\n",
              "<style scoped>\n",
              "    .dataframe tbody tr th:only-of-type {\n",
              "        vertical-align: middle;\n",
              "    }\n",
              "\n",
              "    .dataframe tbody tr th {\n",
              "        vertical-align: top;\n",
              "    }\n",
              "\n",
              "    .dataframe thead th {\n",
              "        text-align: right;\n",
              "    }\n",
              "</style>\n",
              "<table border=\"1\" class=\"dataframe\">\n",
              "  <thead>\n",
              "    <tr style=\"text-align: right;\">\n",
              "      <th></th>\n",
              "      <th>SKU</th>\n",
              "      <th>name</th>\n",
              "      <th>orderedQuantity</th>\n",
              "      <th>stockLevel</th>\n",
              "      <th>restockingLeadTime</th>\n",
              "    </tr>\n",
              "  </thead>\n",
              "  <tbody>\n",
              "    <tr>\n",
              "      <th>0</th>\n",
              "      <td>9180748</td>\n",
              "      <td>Android Lunch Kit</td>\n",
              "      <td>0</td>\n",
              "      <td>0</td>\n",
              "      <td>12</td>\n",
              "    </tr>\n",
              "    <tr>\n",
              "      <th>1</th>\n",
              "      <td>9180754</td>\n",
              "      <td>8 pc Android Sticker Sheet</td>\n",
              "      <td>0</td>\n",
              "      <td>0</td>\n",
              "      <td>13</td>\n",
              "    </tr>\n",
              "    <tr>\n",
              "      <th>2</th>\n",
              "      <td>9180756</td>\n",
              "      <td>Windup Android</td>\n",
              "      <td>0</td>\n",
              "      <td>0</td>\n",
              "      <td>6</td>\n",
              "    </tr>\n",
              "    <tr>\n",
              "      <th>3</th>\n",
              "      <td>9180757</td>\n",
              "      <td>Yoga Block</td>\n",
              "      <td>0</td>\n",
              "      <td>0</td>\n",
              "      <td>13</td>\n",
              "    </tr>\n",
              "    <tr>\n",
              "      <th>4</th>\n",
              "      <td>9180759</td>\n",
              "      <td>Lunch Bag</td>\n",
              "      <td>0</td>\n",
              "      <td>0</td>\n",
              "      <td>6</td>\n",
              "    </tr>\n",
              "    <tr>\n",
              "      <th>...</th>\n",
              "      <td>...</td>\n",
              "      <td>...</td>\n",
              "      <td>...</td>\n",
              "      <td>...</td>\n",
              "      <td>...</td>\n",
              "    </tr>\n",
              "    <tr>\n",
              "      <th>1085</th>\n",
              "      <td>GGOEYHPB072210</td>\n",
              "      <td>Twill Cap</td>\n",
              "      <td>1429</td>\n",
              "      <td>1997</td>\n",
              "      <td>2</td>\n",
              "    </tr>\n",
              "    <tr>\n",
              "      <th>1086</th>\n",
              "      <td>GGOEYOBR078599</td>\n",
              "      <td>Luggage Tag</td>\n",
              "      <td>0</td>\n",
              "      <td>0</td>\n",
              "      <td>15</td>\n",
              "    </tr>\n",
              "    <tr>\n",
              "      <th>1087</th>\n",
              "      <td>GGOEYOCR077399</td>\n",
              "      <td>RFID Journal</td>\n",
              "      <td>935</td>\n",
              "      <td>433</td>\n",
              "      <td>3</td>\n",
              "    </tr>\n",
              "    <tr>\n",
              "      <th>1088</th>\n",
              "      <td>GGOEYOCR077799</td>\n",
              "      <td>Hard Cover Journal</td>\n",
              "      <td>1330</td>\n",
              "      <td>2046</td>\n",
              "      <td>13</td>\n",
              "    </tr>\n",
              "    <tr>\n",
              "      <th>1089</th>\n",
              "      <td>GGOEYOLR018699</td>\n",
              "      <td>Leatherette Notebook Combo</td>\n",
              "      <td>1148</td>\n",
              "      <td>1276</td>\n",
              "      <td>2</td>\n",
              "    </tr>\n",
              "  </tbody>\n",
              "</table>\n",
              "<p>1090 rows × 5 columns</p>\n",
              "</div>"
            ],
            "text/plain": [
              "                 SKU  ... restockingLeadTime\n",
              "0            9180748  ...                 12\n",
              "1            9180754  ...                 13\n",
              "2            9180756  ...                  6\n",
              "3            9180757  ...                 13\n",
              "4            9180759  ...                  6\n",
              "...              ...  ...                ...\n",
              "1085  GGOEYHPB072210  ...                  2\n",
              "1086  GGOEYOBR078599  ...                 15\n",
              "1087  GGOEYOCR077399  ...                  3\n",
              "1088  GGOEYOCR077799  ...                 13\n",
              "1089  GGOEYOLR018699  ...                  2\n",
              "\n",
              "[1090 rows x 5 columns]"
            ]
          },
          "metadata": {
            "tags": []
          },
          "execution_count": 11
        }
      ]
    },
    {
      "cell_type": "code",
      "metadata": {
        "id": "UhzP-k50SUTG",
        "colab_type": "code",
        "colab": {
          "base_uri": "https://localhost:8080/",
          "height": 49
        },
        "outputId": "c0f1f8b1-c0bd-411e-ab75-e43a15c19148"
      },
      "source": [
        "df.query('SKU==\"name\"').groupby(\"SKU\")[['orderedQuantity', 'stockLevel', 'restockingLeadTime']].sum().reset_index()"
      ],
      "execution_count": 15,
      "outputs": [
        {
          "output_type": "execute_result",
          "data": {
            "text/html": [
              "<div>\n",
              "<style scoped>\n",
              "    .dataframe tbody tr th:only-of-type {\n",
              "        vertical-align: middle;\n",
              "    }\n",
              "\n",
              "    .dataframe tbody tr th {\n",
              "        vertical-align: top;\n",
              "    }\n",
              "\n",
              "    .dataframe thead th {\n",
              "        text-align: right;\n",
              "    }\n",
              "</style>\n",
              "<table border=\"1\" class=\"dataframe\">\n",
              "  <thead>\n",
              "    <tr style=\"text-align: right;\">\n",
              "      <th></th>\n",
              "      <th>SKU</th>\n",
              "      <th>orderedQuantity</th>\n",
              "      <th>stockLevel</th>\n",
              "      <th>restockingLeadTime</th>\n",
              "    </tr>\n",
              "  </thead>\n",
              "  <tbody>\n",
              "  </tbody>\n",
              "</table>\n",
              "</div>"
            ],
            "text/plain": [
              "Empty DataFrame\n",
              "Columns: [SKU, orderedQuantity, stockLevel, restockingLeadTime]\n",
              "Index: []"
            ]
          },
          "metadata": {
            "tags": []
          },
          "execution_count": 15
        }
      ]
    },
    {
      "cell_type": "code",
      "metadata": {
        "id": "oBa9N6BOTQSq",
        "colab_type": "code",
        "colab": {
          "base_uri": "https://localhost:8080/",
          "height": 419
        },
        "outputId": "c99445a7-dff9-4663-9e16-145a6c9bc152"
      },
      "source": [
        "df.groupby(\"name\")[['orderedQuantity', 'stockLevel', 'restockingLeadTime']].sum().reset_index()"
      ],
      "execution_count": 16,
      "outputs": [
        {
          "output_type": "execute_result",
          "data": {
            "text/html": [
              "<div>\n",
              "<style scoped>\n",
              "    .dataframe tbody tr th:only-of-type {\n",
              "        vertical-align: middle;\n",
              "    }\n",
              "\n",
              "    .dataframe tbody tr th {\n",
              "        vertical-align: top;\n",
              "    }\n",
              "\n",
              "    .dataframe thead th {\n",
              "        text-align: right;\n",
              "    }\n",
              "</style>\n",
              "<table border=\"1\" class=\"dataframe\">\n",
              "  <thead>\n",
              "    <tr style=\"text-align: right;\">\n",
              "      <th></th>\n",
              "      <th>name</th>\n",
              "      <th>orderedQuantity</th>\n",
              "      <th>stockLevel</th>\n",
              "      <th>restockingLeadTime</th>\n",
              "    </tr>\n",
              "  </thead>\n",
              "  <tbody>\n",
              "    <tr>\n",
              "      <th>0</th>\n",
              "      <td>17 oz Double Wall Stainless Steel Insulated B...</td>\n",
              "      <td>456</td>\n",
              "      <td>633</td>\n",
              "      <td>22</td>\n",
              "    </tr>\n",
              "    <tr>\n",
              "      <th>1</th>\n",
              "      <td>17oz Stainless Steel Sport Bottle</td>\n",
              "      <td>716</td>\n",
              "      <td>1390</td>\n",
              "      <td>31</td>\n",
              "    </tr>\n",
              "    <tr>\n",
              "      <th>2</th>\n",
              "      <td>22 oz Water Bottle</td>\n",
              "      <td>19992</td>\n",
              "      <td>36767</td>\n",
              "      <td>15</td>\n",
              "    </tr>\n",
              "    <tr>\n",
              "      <th>3</th>\n",
              "      <td>2200mAh Micro Charger</td>\n",
              "      <td>34</td>\n",
              "      <td>38</td>\n",
              "      <td>11</td>\n",
              "    </tr>\n",
              "    <tr>\n",
              "      <th>4</th>\n",
              "      <td>25 oz Red Stainless Steel Bottle</td>\n",
              "      <td>221</td>\n",
              "      <td>341</td>\n",
              "      <td>30</td>\n",
              "    </tr>\n",
              "    <tr>\n",
              "      <th>...</th>\n",
              "      <td>...</td>\n",
              "      <td>...</td>\n",
              "      <td>...</td>\n",
              "      <td>...</td>\n",
              "    </tr>\n",
              "    <tr>\n",
              "      <th>306</th>\n",
              "      <td>Women's Weatherblock Shell Jacket Black</td>\n",
              "      <td>13</td>\n",
              "      <td>14</td>\n",
              "      <td>46</td>\n",
              "    </tr>\n",
              "    <tr>\n",
              "      <th>307</th>\n",
              "      <td>Yoga Block</td>\n",
              "      <td>69</td>\n",
              "      <td>78</td>\n",
              "      <td>27</td>\n",
              "    </tr>\n",
              "    <tr>\n",
              "      <th>308</th>\n",
              "      <td>Yoga Mat</td>\n",
              "      <td>29</td>\n",
              "      <td>54</td>\n",
              "      <td>24</td>\n",
              "    </tr>\n",
              "    <tr>\n",
              "      <th>309</th>\n",
              "      <td>Yoga Mat Blue</td>\n",
              "      <td>45</td>\n",
              "      <td>60</td>\n",
              "      <td>21</td>\n",
              "    </tr>\n",
              "    <tr>\n",
              "      <th>310</th>\n",
              "      <td>Yoga Mat Purple</td>\n",
              "      <td>10</td>\n",
              "      <td>13</td>\n",
              "      <td>28</td>\n",
              "    </tr>\n",
              "  </tbody>\n",
              "</table>\n",
              "<p>311 rows × 4 columns</p>\n",
              "</div>"
            ],
            "text/plain": [
              "                                                  name  ...  restockingLeadTime\n",
              "0     17 oz Double Wall Stainless Steel Insulated B...  ...                  22\n",
              "1                    17oz Stainless Steel Sport Bottle  ...                  31\n",
              "2                                   22 oz Water Bottle  ...                  15\n",
              "3                                2200mAh Micro Charger  ...                  11\n",
              "4                     25 oz Red Stainless Steel Bottle  ...                  30\n",
              "..                                                 ...  ...                 ...\n",
              "306            Women's Weatherblock Shell Jacket Black  ...                  46\n",
              "307                                         Yoga Block  ...                  27\n",
              "308                                           Yoga Mat  ...                  24\n",
              "309                                      Yoga Mat Blue  ...                  21\n",
              "310                                    Yoga Mat Purple  ...                  28\n",
              "\n",
              "[311 rows x 4 columns]"
            ]
          },
          "metadata": {
            "tags": []
          },
          "execution_count": 16
        }
      ]
    },
    {
      "cell_type": "code",
      "metadata": {
        "id": "4vtlE8V7T1pi",
        "colab_type": "code",
        "colab": {
          "base_uri": "https://localhost:8080/",
          "height": 34
        },
        "outputId": "81e95a99-840d-4b0c-e915-3d0da58cede8"
      },
      "source": [
        "all_countries = df['name'].unique()\n",
        "print(\"Number of countries with cases: \" + str(len(all_countries)))"
      ],
      "execution_count": 17,
      "outputs": [
        {
          "output_type": "stream",
          "text": [
            "Number of countries with cases: 311\n"
          ],
          "name": "stdout"
        }
      ]
    },
    {
      "cell_type": "code",
      "metadata": {
        "id": "VL07mT2dVbkr",
        "colab_type": "code",
        "colab": {
          "base_uri": "https://localhost:8080/",
          "height": 450
        },
        "outputId": "07bc0f19-d022-4754-9d08-4e191c1ea583"
      },
      "source": [
        "df.groupby('name').sum()"
      ],
      "execution_count": 32,
      "outputs": [
        {
          "output_type": "execute_result",
          "data": {
            "text/html": [
              "<div>\n",
              "<style scoped>\n",
              "    .dataframe tbody tr th:only-of-type {\n",
              "        vertical-align: middle;\n",
              "    }\n",
              "\n",
              "    .dataframe tbody tr th {\n",
              "        vertical-align: top;\n",
              "    }\n",
              "\n",
              "    .dataframe thead th {\n",
              "        text-align: right;\n",
              "    }\n",
              "</style>\n",
              "<table border=\"1\" class=\"dataframe\">\n",
              "  <thead>\n",
              "    <tr style=\"text-align: right;\">\n",
              "      <th></th>\n",
              "      <th>orderedQuantity</th>\n",
              "      <th>stockLevel</th>\n",
              "      <th>restockingLeadTime</th>\n",
              "    </tr>\n",
              "    <tr>\n",
              "      <th>name</th>\n",
              "      <th></th>\n",
              "      <th></th>\n",
              "      <th></th>\n",
              "    </tr>\n",
              "  </thead>\n",
              "  <tbody>\n",
              "    <tr>\n",
              "      <th>17 oz Double Wall Stainless Steel Insulated Bottle</th>\n",
              "      <td>456</td>\n",
              "      <td>633</td>\n",
              "      <td>22</td>\n",
              "    </tr>\n",
              "    <tr>\n",
              "      <th>17oz Stainless Steel Sport Bottle</th>\n",
              "      <td>716</td>\n",
              "      <td>1390</td>\n",
              "      <td>31</td>\n",
              "    </tr>\n",
              "    <tr>\n",
              "      <th>22 oz Water Bottle</th>\n",
              "      <td>19992</td>\n",
              "      <td>36767</td>\n",
              "      <td>15</td>\n",
              "    </tr>\n",
              "    <tr>\n",
              "      <th>2200mAh Micro Charger</th>\n",
              "      <td>34</td>\n",
              "      <td>38</td>\n",
              "      <td>11</td>\n",
              "    </tr>\n",
              "    <tr>\n",
              "      <th>25 oz Red Stainless Steel Bottle</th>\n",
              "      <td>221</td>\n",
              "      <td>341</td>\n",
              "      <td>30</td>\n",
              "    </tr>\n",
              "    <tr>\n",
              "      <th>...</th>\n",
              "      <td>...</td>\n",
              "      <td>...</td>\n",
              "      <td>...</td>\n",
              "    </tr>\n",
              "    <tr>\n",
              "      <th>Women's Weatherblock Shell Jacket Black</th>\n",
              "      <td>13</td>\n",
              "      <td>14</td>\n",
              "      <td>46</td>\n",
              "    </tr>\n",
              "    <tr>\n",
              "      <th>Yoga Block</th>\n",
              "      <td>69</td>\n",
              "      <td>78</td>\n",
              "      <td>27</td>\n",
              "    </tr>\n",
              "    <tr>\n",
              "      <th>Yoga Mat</th>\n",
              "      <td>29</td>\n",
              "      <td>54</td>\n",
              "      <td>24</td>\n",
              "    </tr>\n",
              "    <tr>\n",
              "      <th>Yoga Mat Blue</th>\n",
              "      <td>45</td>\n",
              "      <td>60</td>\n",
              "      <td>21</td>\n",
              "    </tr>\n",
              "    <tr>\n",
              "      <th>Yoga Mat Purple</th>\n",
              "      <td>10</td>\n",
              "      <td>13</td>\n",
              "      <td>28</td>\n",
              "    </tr>\n",
              "  </tbody>\n",
              "</table>\n",
              "<p>311 rows × 3 columns</p>\n",
              "</div>"
            ],
            "text/plain": [
              "                                                    orderedQuantity  ...  restockingLeadTime\n",
              "name                                                                 ...                    \n",
              " 17 oz Double Wall Stainless Steel Insulated Bo...              456  ...                  22\n",
              " 17oz Stainless Steel Sport Bottle                              716  ...                  31\n",
              " 22 oz Water Bottle                                           19992  ...                  15\n",
              " 2200mAh Micro Charger                                           34  ...                  11\n",
              " 25 oz Red Stainless Steel Bottle                               221  ...                  30\n",
              "...                                                             ...  ...                 ...\n",
              "Women's Weatherblock Shell Jacket Black                          13  ...                  46\n",
              "Yoga Block                                                       69  ...                  27\n",
              "Yoga Mat                                                         29  ...                  24\n",
              "Yoga Mat Blue                                                    45  ...                  21\n",
              "Yoga Mat Purple                                                  10  ...                  28\n",
              "\n",
              "[311 rows x 3 columns]"
            ]
          },
          "metadata": {
            "tags": []
          },
          "execution_count": 32
        }
      ]
    },
    {
      "cell_type": "code",
      "metadata": {
        "id": "cLgCyuMmVyrG",
        "colab_type": "code",
        "colab": {}
      },
      "source": [
        "confirmed = df.groupby('name').sum()['orderedQuantity'].reset_index()\n",
        "deaths = df.groupby('name').sum()['stockLevel'].reset_index()\n",
        "recovered = df.groupby('name').sum()['restockingLeadTime'].reset_index()"
      ],
      "execution_count": 0,
      "outputs": []
    },
    {
      "cell_type": "code",
      "metadata": {
        "id": "14H5WLWiW3bY",
        "colab_type": "code",
        "colab": {
          "base_uri": "https://localhost:8080/",
          "height": 542
        },
        "outputId": "22203a42-24cf-46e4-ba2c-eaeecff90e17"
      },
      "source": [
        "fig = go.Figure()\n",
        "fig.add_trace(go.Bar(x=confirmed['name'],\n",
        "                y=confirmed['orderedQuantity'],\n",
        "                name='orderedQuantity',\n",
        "                marker_color='blue'\n",
        "                ))\n",
        "fig.add_trace(go.Bar(x=deaths['name'],\n",
        "                y=deaths['stockLevel'],\n",
        "                name='stockLevel',\n",
        "                marker_color='Red'\n",
        "                ))\n",
        "fig.add_trace(go.Bar(x=recovered['name'],\n",
        "                y=recovered['restockingLeadTime'],\n",
        "                name='restockingLeadTime',\n",
        "                marker_color='Green'\n",
        "                ))\n",
        "\n",
        "fig.update_layout(\n",
        "    title='Worldwide E-commerce Cases - orderedQuantity, stockLevel, restockingLeadTime',\n",
        "    xaxis_tickfont_size=14,\n",
        "    yaxis=dict(\n",
        "        title='Number of Cases',\n",
        "        titlefont_size=16,\n",
        "        tickfont_size=14,\n",
        "    ),\n",
        "    legend=dict(\n",
        "        x=0,\n",
        "        y=1.0,\n",
        "        bgcolor='rgba(255, 255, 255, 0)',\n",
        "        bordercolor='rgba(255, 255, 255, 0)'\n",
        "    ),\n",
        "    barmode='group',\n",
        "    bargap=0.15, # gap between bars of adjacent location coordinates.\n",
        "    bargroupgap=0.1 # gap between bars of the same location coordinate.\n",
        ")\n",
        "fig.show()"
      ],
      "execution_count": 39,
      "outputs": [
        {
          "output_type": "display_data",
          "data": {
            "text/html": [
              "<html>\n",
              "<head><meta charset=\"utf-8\" /></head>\n",
              "<body>\n",
              "    <div>\n",
              "            <script src=\"https://cdnjs.cloudflare.com/ajax/libs/mathjax/2.7.5/MathJax.js?config=TeX-AMS-MML_SVG\"></script><script type=\"text/javascript\">if (window.MathJax) {MathJax.Hub.Config({SVG: {font: \"STIX-Web\"}});}</script>\n",
              "                <script type=\"text/javascript\">window.PlotlyConfig = {MathJaxConfig: 'local'};</script>\n",
              "        <script src=\"https://cdn.plot.ly/plotly-latest.min.js\"></script>    \n",
              "            <div id=\"be76c60f-8931-42ad-b450-dc6479da39ea\" class=\"plotly-graph-div\" style=\"height:525px; width:100%;\"></div>\n",
              "            <script type=\"text/javascript\">\n",
              "                \n",
              "                    window.PLOTLYENV=window.PLOTLYENV || {};\n",
              "                    \n",
              "                if (document.getElementById(\"be76c60f-8931-42ad-b450-dc6479da39ea\")) {\n",
              "                    Plotly.newPlot(\n",
              "                        'be76c60f-8931-42ad-b450-dc6479da39ea',\n",
              "                        [{\"marker\": {\"color\": \"blue\"}, \"name\": \"orderedQuantity\", \"type\": \"bar\", \"x\": [\" 17 oz Double Wall Stainless Steel Insulated Bottle\", \" 17oz Stainless Steel Sport Bottle\", \" 22 oz Water Bottle\", \" 2200mAh Micro Charger\", \" 25 oz Red Stainless Steel Bottle\", \" 4400mAh Power Bank\", \" 5-Panel Cap\", \" 5-Panel Snapback Cap\", \" Alpine Style Backpack\", \" Baby Essentials Set\", \" Baby on Board Window Decal\", \" Bib Red\", \" Bib White\", \" Blackout Cap\", \" Bongo Cupholder Bluetooth Speaker\", \" Cam Indoor Security Camera - CA\", \" Cam Indoor Security Camera - USA\", \" Cam Outdoor Security Camera - CA\", \" Cam Outdoor Security Camera - USA\", \" Canvas Tote Natural/Navy\", \" Car Clip Phone Holder\", \" Collapsible Pet Bowl\", \" Custom Decals\", \" Device Holder Sticky Pad\", \" Device Stand\", \" Doodle Decal\", \" Dress Socks\", \" Executive Umbrella\", \" Flashlight\", \" French Terry Cap\", \" G Noise-reducing Bluetooth Headphones\", \" Hard Cover Journal\", \" High Capacity 10,400mAh Charger\", \" Infant Short Sleeve Tee Green\", \" Infant Short Sleeve Tee Red\", \" Infant Short Sleeve Tee Royal Blue\", \" Infant Short Sleeve Tee White\", \" Infant Zip Hood Pink\", \" Infant Zip Hood Royal Blue\", \" Insulated Stainless Steel Bottle\", \" Kick Ball\", \" Laptop Backpack\", \" Laptop and Cell Phone Stickers\", \" Learning Thermostat 3rd Gen - CA - Stainless Steel\", \" Learning Thermostat 3rd Gen-USA - Copper\", \" Learning Thermostat 3rd Gen-USA - Stainless Steel\", \" Learning Thermostat 3rd Gen-USA - White\", \" Leather Journal\", \" Leather Journal-Black\", \" Leather Journal-Brown\", \" Leather Perforated Journal\", \" Leatherette Notebook Combo\", \" Luggage Tag\", \" Lunch Bag\", \" Men's  Zip Hoodie\", \" Men's 100% Cotton Short Sleeve Hero Tee Black\", \" Men's 100% Cotton Short Sleeve Hero Tee Navy\", \" Men's 100% Cotton Short Sleeve Hero Tee Red\", \" Men's 100% Cotton Short Sleeve Hero Tee White\", \" Men's 3/4 Sleeve Henley\", \" Men's Airflow 1/4 Zip Pullover Black\", \" Men's Airflow 1/4 Zip Pullover Lapis\", \" Men's Bayside Graphic Tee\", \" Men's Bike Short Sleeve Tee Charcoal\", \" Men's Colorblock Tee White/Heather\", \" Men's Convertible Vest-Jacket Pewter\", \" Men's Fleece Hoodie Black\", \" Men's Lightweight Microfleece Jacket Black\", \" Men's Long & Lean Tee Charcoal\", \" Men's Long & Lean Tee Grey\", \" Men's Long Sleeve Pullover Badge Tee Heather\", \" Men's Long Sleeve Raglan Ocean Blue\", \" Men's Microfiber 1/4 Zip Pullover Blue/Indigo\", \" Men's Performance 1/4 Zip Pullover Heather/Black\", \" Men's Performance Full Zip Jacket Black\", \" Men's Performance Hero Tee Gunmetal\", \" Men's Pullover Hoodie Grey\", \" Men's Quilted Insulated Vest Battleship Grey\", \" Men's Quilted Insulated Vest Black\", \" Men's Short Sleeve Badge Tee Charcoal\", \" Men's Short Sleeve Hero Tee  White\", \" Men's Short Sleeve Hero Tee Black\", \" Men's Short Sleeve Hero Tee Charcoal\", \" Men's Short Sleeve Hero Tee Heather\", \" Men's Short Sleeve Hero Tee Light Blue\", \" Men's Short Sleeve Hero Tee White\", \" Men's Short Sleeve Performance Badge Tee Black\", \" Men's Short Sleeve Performance Badge Tee Charcoal\", \" Men's Short Sleeve Performance Badge Tee Navy\", \" Men's Short Sleeve Performance Badge Tee Pewter\", \" Men's Short Sleeve Tee\", \" Men's Softshell Jacket Black/Grey\", \" Men's Typography Short Sleeve Tee\", \" Men's Vintage Badge Tee Black\", \" Men's Vintage Badge Tee Sage\", \" Men's Vintage Badge Tee White\", \" Men's Vintage Henley\", \" Men's Vintage Tank\", \" Men's Vintage Tee\", \" Men's Watershed Full Zip Hoodie Grey\", \" Men's Weatherblock Shell Jacket Black\", \" Metallic Notebook Set\", \" Mobile Phone Vent Mount\", \" Mood Happy Window Decal\", \" Mood Ninja Window Decal\", \" Mood Original Window Decal\", \" Onesie Green\", \" Onesie Heather\", \" Onesie Red\", \" Onesie Red/Graphite\", \" Pack of 9 Decal Set\", \" Pet Feeding Mat\", \" Pocket Bluetooth Speaker\", \" Power Bank\", \" Protect Smoke + CO White Battery Alarm - CA\", \" Protect Smoke + CO White Battery Alarm-USA\", \" Protect Smoke + CO White Wired Alarm - CA\", \" Protect Smoke + CO White Wired Alarm-USA\", \" RFID Journal\", \" Rucksack\", \" Screen Cleaning Cloth\", \" Slim Utility Travel Bag\", \" Snapback Hat Black\", \" Spiral Journal with Pen\", \" Spiral Leather Journal\", \" Stretch Fit Hat M/L Navy\", \" Stylus Pen w/ LED Light\", \" Sunglasses\", \" Toddler 1/4 Zip Fleece Pewter\", \" Toddler Hoodie Royal Blue\", \" Toddler Raglan Shirt Blue Heather/Navy\", \" Toddler Short Sleeve T-shirt Grey\", \" Toddler Short Sleeve T-shirt Royal Blue\", \" Toddler Short Sleeve Tee Red\", \" Toddler Short Sleeve Tee White\", \" Toddler Sports T-shirt Red\", \" Tote Bag\", \" Tri-blend Hoodie Grey\", \" Trucker Hat\", \" Tube Power Bank\", \" Twill Cap\", \" Vintage Henley Grey/Black\", \" Water Resistant Bluetooth Speaker\", \" Women's 1/4 Zip Jacket Charcoal\", \" Women's 1/4 Zip Performance Pullover Black\", \" Women's 1/4 Zip Performance Pullover Two-Tone Blue\", \" Women's 3/4 Sleeve Baseball Raglan Heather/Black\", \" Women's Colorblock Tee White\", \" Women's Convertible Vest-Jacket Black\", \" Women's Convertible Vest-Jacket Sea Foam Green\", \" Women's Fleece Hoodie\", \" Women's Fleece Hoodie Black\", \" Women's Lightweight Microfleece Jacket\", \" Women's Long Sleeve Blended Cardigan Charcoal\", \" Women's Long Sleeve Tee Lavender\", \" Women's Performance Full Zip Jacket Black\", \" Women's Performance Golf Polo Blue\", \" Women's Performance Hero Tee Gunmetal\", \" Women's Quilted Insulated Vest Black\", \" Women's Quilted Insulated Vest White\", \" Women's Recycled Fabric Tee\", \" Women's Scoop Neck Tee Black\", \" Women's Scoop Neck Tee White\", \" Women's Shell Jacket Blue/Black\", \" Women's Short Sleeve Badge Tee Grey\", \" Women's Short Sleeve Badge Tee Navy\", \" Women's Short Sleeve Hero Dark Grey\", \" Women's Short Sleeve Hero Tee Black\", \" Women's Short Sleeve Hero Tee Charcoal\", \" Women's Short Sleeve Hero Tee Grey\", \" Women's Short Sleeve Hero Tee Heather\", \" Women's Short Sleeve Hero Tee Red Heather\", \" Women's Short Sleeve Hero Tee Sky Blue\", \" Women's Short Sleeve Hero Tee White\", \" Women's Short Sleeve Performance Tee Charcoal\", \" Women's Short Sleeve Performance Tee Pewter\", \" Women's Short Sleeve Tee\", \" Women's Short Sleeve Tri-blend Badge Tee Charcoal\", \" Women's Short Sleeve Tri-blend Badge Tee Grey\", \" Women's Softshell Jacket Black/Grey\", \" Women's Tee Grey\", \" Women's Typography Short Sleeve Tee\", \" Women's V-Neck Tee Charcoal\", \" Women's Vintage Hero Tee Black\", \" Women's Vintage Hero Tee Lavender\", \" Women's Vintage Hero Tee Platinum\", \" Women's Vintage Hero Tee White\", \" Women's Weatherblock Shell Jacket Black\", \" Women's Yoga Jacket Black\", \" Women's Yoga Pants\", \" Womens 3/4 Sleeve Baseball Raglan Heather/Black\", \" Wool Heather Cap Heather/Black\", \" Wool Heather Cap Heather/Navy\", \" Youth Baseball Raglan Heather/Black\", \" Youth Girl Hoodie\", \" Youth Girl Tee Green\", \" Youth Short Sleeve T-shirt Green\", \" Youth Short Sleeve T-shirt Royal Blue\", \" Youth Short Sleeve T-shirt Yellow\", \" Youth Short Sleeve Tee Red\", \" Youth Short Sleeve Tee White\", \" Youth Sports Tee Navy\", \" Zipper-front Sports Bag\", \"1 oz Hand Sanitizer\", \"20 oz Stainless Steel Insulated Tumbler\", \"22 oz  Bottle Infuser\", \"22 oz Android Bottle\", \"23 oz Wide Mouth Sport Bottle\", \"24 oz  Sergeant Stripe Bottle\", \"25L Classic Rucksack\", \"26 oz Double Wall Insulated Bottle\", \"7\\\" Dog Frisbee\", \"8 pc Android Sticker Sheet\", \"Aluminum Handy Emergency Flashlight\", \"Android 17oz Stainless Steel Sport Bottle\", \"Android 5-Panel Low Cap\", \"Android BTTF Cosmos Graphic Tee\", \"Android BTTF Moonshot Graphic Tee\", \"Android Hard Cover Journal\", \"Android Infant Short Sleeve Tee Pewter\", \"Android Infant Short Sleeve Tee Pink\", \"Android Lifted Men's Short Sleeve Tee Blue\", \"Android Luggage Tag\", \"Android Lunch Kit\", \"Android Men's  Zip Hoodie\", \"Android Men's Engineer Short Sleeve Tee Charcoal\", \"Android Men's Long & Lean Badge Tee Charcoal\", \"Android Men's Long Sleeve Badge Crew Tee Heather\", \"Android Men's Outerstellar Short Sleeve Tee Black\", \"Android Men's Paradise Short Sleeve Tee Olive\", \"Android Men's Pep Rally Short Sleeve Tee Navy\", \"Android Men's Short Sleeve Hero Tee Heather\", \"Android Men's Short Sleeve Hero Tee White\", \"Android Men's Short Sleeve Tri-blend Hero Tee Grey\", \"Android Men's Take Charge Short Sleeve Tee Purple\", \"Android Men's Vintage Henley\", \"Android Men's Vintage Tank\", \"Android Onesie Gold\", \"Android RFID Journal\", \"Android Rise 14 oz Mug\", \"Android Spiral Journal with Pen\", \"Android Sticker Sheet Ultra Removable\", \"Android Stretch Fit Hat\", \"Android Stretch Fit Hat Black\", \"Android Stretch Fit Hat M/L\", \"Android Stretch Fit Hat S/M\", \"Android Toddler Short Sleeve T-shirt Aqua\", \"Android Toddler Short Sleeve T-shirt Pewter\", \"Android Toddler Short Sleeve T-shirt Pink\", \"Android Twill Cap\", \"Android Women's Fleece Hoodie\", \"Android Women's Long Sleeve Blended Cardigan Grey\", \"Android Women's Short Sleeve Badge Tee Dark Heather\", \"Android Women's Short Sleeve Hero Tee Black\", \"Android Wool Heather Cap Heather/Black\", \"Android Youth Short Sleeve T-shirt Aqua\", \"Android Youth Short Sleeve T-shirt Pewter\", \"BLM Sweatshirt\", \"Badge Holder\", \"Ballpoint LED Light Pen\", \"Ballpoint Pen Blue\", \"Ballpoint Stylus Pen\", \"Basecamp Explorer Powerbank Flashlight\", \"Bottle Opener Clip\", \"Clip-on Compact Charger\", \"Collapsible Shopping Bag\", \"Colored Pencil Set\", \"Compact Selfie Stick\", \"Crunch Noise Dog Toy\", \"Electronics Accessory Pouch\", \"Foam Can and Bottle Cooler\", \"Four Color Retractable Pen\", \"Gift Card - $25.00\", \"Gift Card - $250.00\", \"Gift Card - $50.00\", \"Gift Card- $100.00\", \"Gunmetal Roller Ball Pen\", \"Keyboard DOT Sticker\", \"Leatherette Journal\", \"Maze Pen\", \"Men's Softshell Jacket Black/Grey\", \"Men's Weatherblock Shell Jacket Black\", \"Metal Texture Roller Pen\", \"Micro Wireless Earbud\", \"Pen Pencil & Highlighter Set\", \"Plastic Sliding Flashlight\", \"Recycled Mouse Pad\", \"Recycled Paper Journal Set\", \"Red Shine 15 oz Mug\", \"Red Spiral  Notebook\", \"Rocket Flashlight\", \"Rubber Grip Ballpoint Pen 4 Pack\", \"SPF-15 Slim & Slender Lip Balm\", \"Satin Black Ballpoint Pen\", \"Seat Pack Organizer\", \"Spiral Notebook and Pen Set\", \"Sport Bag\", \"Suitcase Organizer Cubes\", \"Switch Tone Color Crayon Pen\", \"UpCycled Bike Saddle Bag\", \"UpCycled Handlebar Bag\", \"Waterproof Backpack\", \"Waterproof Gear Bag\", \"Windup Android\", \"Women's  Short Sleeve Hero Tee Black\", \"Women's Performance Full Zip Jacket Black\", \"Women's Weatherblock Shell Jacket Black\", \"Yoga Block\", \"Yoga Mat\", \"Yoga Mat Blue\", \"Yoga Mat Purple\"], \"y\": [456, 716, 19992, 34, 221, 50, 47, 151, 165, 829, 251, 27, 65, 299, 85, 38, 2139, 37, 2719, 551, 171, 78, 3786, 49, 154, 1290, 15, 242, 9, 0, 101, 2443, 73, 38, 23, 28, 76, 234, 151, 0, 15170, 155, 1033, 54, 324, 1886, 849, 119, 224, 275, 687, 1148, 629, 160, 372, 1035, 210, 333, 1017, 0, 65, 50, 56, 222, 13, 6, 388, 37, 729, 168, 0, 189, 25, 56, 96, 7, 85, 81, 102, 201, 2, 268, 446, 44, 52, 107, 34, 186, 33, 199, 16, 1, 2, 1259, 909, 547, 264, 172, 0, 206, 4, 2718, 68, 17, 48, 63, 182, 147, 90, 97, 31, 198, 214, 156, 14, 999, 26, 1244, 2769, 212, 844, 276, 230, 3896, 401, 4, 1100, 9071, 115, 135, 51, 121, 61, 105, 56, 35, 92, 155, 0, 218, 2346, 106, 183, 33, 42, 37, 19, 0, 129, 73, 123, 14, 42, 107, 136, 10, 10, 25, 16, 32, 12, 335, 215, 14, 67, 86, 42, 533, 67, 295, 10, 79, 62, 102, 33, 41, 3, 278, 33, 0, 86, 0, 69, 687, 99, 161, 349, 1, 74, 5, 78, 0, 0, 48, 15, 57, 32, 15, 111, 118, 55, 125, 162, 381, 499, 1465, 597, 402, 0, 117, 845, 498, 336, 66, 210, 7, 27, 44, 63, 25, 51, 27, 22, 107, 32, 78, 248, 193, 38, 49, 59, 353, 71, 22, 109, 90, 108, 76, 73, 306, 665, 363, 56, 27, 37, 31, 189, 24, 151, 91, 28, 79, 35, 13, 168, 168, 35, 11, 916, 1415, 226, 769, 200, 362, 745, 1184, 269, 268, 262, 330, 2442, 2002, 65, 22, 9, 45, 740, 480, 3071, 1748, 2, 58, 390, 185, 1067, 1570, 1033, 3069, 1058, 316, 123, 1515, 3682, 403, 160, 3582, 2299, 295, 1163, 42, 76, 215, 140, 1351, 57, 35, 13, 69, 29, 45, 10]}, {\"marker\": {\"color\": \"Red\"}, \"name\": \"stockLevel\", \"type\": \"bar\", \"x\": [\" 17 oz Double Wall Stainless Steel Insulated Bottle\", \" 17oz Stainless Steel Sport Bottle\", \" 22 oz Water Bottle\", \" 2200mAh Micro Charger\", \" 25 oz Red Stainless Steel Bottle\", \" 4400mAh Power Bank\", \" 5-Panel Cap\", \" 5-Panel Snapback Cap\", \" Alpine Style Backpack\", \" Baby Essentials Set\", \" Baby on Board Window Decal\", \" Bib Red\", \" Bib White\", \" Blackout Cap\", \" Bongo Cupholder Bluetooth Speaker\", \" Cam Indoor Security Camera - CA\", \" Cam Indoor Security Camera - USA\", \" Cam Outdoor Security Camera - CA\", \" Cam Outdoor Security Camera - USA\", \" Canvas Tote Natural/Navy\", \" Car Clip Phone Holder\", \" Collapsible Pet Bowl\", \" Custom Decals\", \" Device Holder Sticky Pad\", \" Device Stand\", \" Doodle Decal\", \" Dress Socks\", \" Executive Umbrella\", \" Flashlight\", \" French Terry Cap\", \" G Noise-reducing Bluetooth Headphones\", \" Hard Cover Journal\", \" High Capacity 10,400mAh Charger\", \" Infant Short Sleeve Tee Green\", \" Infant Short Sleeve Tee Red\", \" Infant Short Sleeve Tee Royal Blue\", \" Infant Short Sleeve Tee White\", \" Infant Zip Hood Pink\", \" Infant Zip Hood Royal Blue\", \" Insulated Stainless Steel Bottle\", \" Kick Ball\", \" Laptop Backpack\", \" Laptop and Cell Phone Stickers\", \" Learning Thermostat 3rd Gen - CA - Stainless Steel\", \" Learning Thermostat 3rd Gen-USA - Copper\", \" Learning Thermostat 3rd Gen-USA - Stainless Steel\", \" Learning Thermostat 3rd Gen-USA - White\", \" Leather Journal\", \" Leather Journal-Black\", \" Leather Journal-Brown\", \" Leather Perforated Journal\", \" Leatherette Notebook Combo\", \" Luggage Tag\", \" Lunch Bag\", \" Men's  Zip Hoodie\", \" Men's 100% Cotton Short Sleeve Hero Tee Black\", \" Men's 100% Cotton Short Sleeve Hero Tee Navy\", \" Men's 100% Cotton Short Sleeve Hero Tee Red\", \" Men's 100% Cotton Short Sleeve Hero Tee White\", \" Men's 3/4 Sleeve Henley\", \" Men's Airflow 1/4 Zip Pullover Black\", \" Men's Airflow 1/4 Zip Pullover Lapis\", \" Men's Bayside Graphic Tee\", \" Men's Bike Short Sleeve Tee Charcoal\", \" Men's Colorblock Tee White/Heather\", \" Men's Convertible Vest-Jacket Pewter\", \" Men's Fleece Hoodie Black\", \" Men's Lightweight Microfleece Jacket Black\", \" Men's Long & Lean Tee Charcoal\", \" Men's Long & Lean Tee Grey\", \" Men's Long Sleeve Pullover Badge Tee Heather\", \" Men's Long Sleeve Raglan Ocean Blue\", \" Men's Microfiber 1/4 Zip Pullover Blue/Indigo\", \" Men's Performance 1/4 Zip Pullover Heather/Black\", \" Men's Performance Full Zip Jacket Black\", \" Men's Performance Hero Tee Gunmetal\", \" Men's Pullover Hoodie Grey\", \" Men's Quilted Insulated Vest Battleship Grey\", \" Men's Quilted Insulated Vest Black\", \" Men's Short Sleeve Badge Tee Charcoal\", \" Men's Short Sleeve Hero Tee  White\", \" Men's Short Sleeve Hero Tee Black\", \" Men's Short Sleeve Hero Tee Charcoal\", \" Men's Short Sleeve Hero Tee Heather\", \" Men's Short Sleeve Hero Tee Light Blue\", \" Men's Short Sleeve Hero Tee White\", \" Men's Short Sleeve Performance Badge Tee Black\", \" Men's Short Sleeve Performance Badge Tee Charcoal\", \" Men's Short Sleeve Performance Badge Tee Navy\", \" Men's Short Sleeve Performance Badge Tee Pewter\", \" Men's Short Sleeve Tee\", \" Men's Softshell Jacket Black/Grey\", \" Men's Typography Short Sleeve Tee\", \" Men's Vintage Badge Tee Black\", \" Men's Vintage Badge Tee Sage\", \" Men's Vintage Badge Tee White\", \" Men's Vintage Henley\", \" Men's Vintage Tank\", \" Men's Vintage Tee\", \" Men's Watershed Full Zip Hoodie Grey\", \" Men's Weatherblock Shell Jacket Black\", \" Metallic Notebook Set\", \" Mobile Phone Vent Mount\", \" Mood Happy Window Decal\", \" Mood Ninja Window Decal\", \" Mood Original Window Decal\", \" Onesie Green\", \" Onesie Heather\", \" Onesie Red\", \" Onesie Red/Graphite\", \" Pack of 9 Decal Set\", \" Pet Feeding Mat\", \" Pocket Bluetooth Speaker\", \" Power Bank\", \" Protect Smoke + CO White Battery Alarm - CA\", \" Protect Smoke + CO White Battery Alarm-USA\", \" Protect Smoke + CO White Wired Alarm - CA\", \" Protect Smoke + CO White Wired Alarm-USA\", \" RFID Journal\", \" Rucksack\", \" Screen Cleaning Cloth\", \" Slim Utility Travel Bag\", \" Snapback Hat Black\", \" Spiral Journal with Pen\", \" Spiral Leather Journal\", \" Stretch Fit Hat M/L Navy\", \" Stylus Pen w/ LED Light\", \" Sunglasses\", \" Toddler 1/4 Zip Fleece Pewter\", \" Toddler Hoodie Royal Blue\", \" Toddler Raglan Shirt Blue Heather/Navy\", \" Toddler Short Sleeve T-shirt Grey\", \" Toddler Short Sleeve T-shirt Royal Blue\", \" Toddler Short Sleeve Tee Red\", \" Toddler Short Sleeve Tee White\", \" Toddler Sports T-shirt Red\", \" Tote Bag\", \" Tri-blend Hoodie Grey\", \" Trucker Hat\", \" Tube Power Bank\", \" Twill Cap\", \" Vintage Henley Grey/Black\", \" Water Resistant Bluetooth Speaker\", \" Women's 1/4 Zip Jacket Charcoal\", \" Women's 1/4 Zip Performance Pullover Black\", \" Women's 1/4 Zip Performance Pullover Two-Tone Blue\", \" Women's 3/4 Sleeve Baseball Raglan Heather/Black\", \" Women's Colorblock Tee White\", \" Women's Convertible Vest-Jacket Black\", \" Women's Convertible Vest-Jacket Sea Foam Green\", \" Women's Fleece Hoodie\", \" Women's Fleece Hoodie Black\", \" Women's Lightweight Microfleece Jacket\", \" Women's Long Sleeve Blended Cardigan Charcoal\", \" Women's Long Sleeve Tee Lavender\", \" Women's Performance Full Zip Jacket Black\", \" Women's Performance Golf Polo Blue\", \" Women's Performance Hero Tee Gunmetal\", \" Women's Quilted Insulated Vest Black\", \" Women's Quilted Insulated Vest White\", \" Women's Recycled Fabric Tee\", \" Women's Scoop Neck Tee Black\", \" Women's Scoop Neck Tee White\", \" Women's Shell Jacket Blue/Black\", \" Women's Short Sleeve Badge Tee Grey\", \" Women's Short Sleeve Badge Tee Navy\", \" Women's Short Sleeve Hero Dark Grey\", \" Women's Short Sleeve Hero Tee Black\", \" Women's Short Sleeve Hero Tee Charcoal\", \" Women's Short Sleeve Hero Tee Grey\", \" Women's Short Sleeve Hero Tee Heather\", \" Women's Short Sleeve Hero Tee Red Heather\", \" Women's Short Sleeve Hero Tee Sky Blue\", \" Women's Short Sleeve Hero Tee White\", \" Women's Short Sleeve Performance Tee Charcoal\", \" Women's Short Sleeve Performance Tee Pewter\", \" Women's Short Sleeve Tee\", \" Women's Short Sleeve Tri-blend Badge Tee Charcoal\", \" Women's Short Sleeve Tri-blend Badge Tee Grey\", \" Women's Softshell Jacket Black/Grey\", \" Women's Tee Grey\", \" Women's Typography Short Sleeve Tee\", \" Women's V-Neck Tee Charcoal\", \" Women's Vintage Hero Tee Black\", \" Women's Vintage Hero Tee Lavender\", \" Women's Vintage Hero Tee Platinum\", \" Women's Vintage Hero Tee White\", \" Women's Weatherblock Shell Jacket Black\", \" Women's Yoga Jacket Black\", \" Women's Yoga Pants\", \" Womens 3/4 Sleeve Baseball Raglan Heather/Black\", \" Wool Heather Cap Heather/Black\", \" Wool Heather Cap Heather/Navy\", \" Youth Baseball Raglan Heather/Black\", \" Youth Girl Hoodie\", \" Youth Girl Tee Green\", \" Youth Short Sleeve T-shirt Green\", \" Youth Short Sleeve T-shirt Royal Blue\", \" Youth Short Sleeve T-shirt Yellow\", \" Youth Short Sleeve Tee Red\", \" Youth Short Sleeve Tee White\", \" Youth Sports Tee Navy\", \" Zipper-front Sports Bag\", \"1 oz Hand Sanitizer\", \"20 oz Stainless Steel Insulated Tumbler\", \"22 oz  Bottle Infuser\", \"22 oz Android Bottle\", \"23 oz Wide Mouth Sport Bottle\", \"24 oz  Sergeant Stripe Bottle\", \"25L Classic Rucksack\", \"26 oz Double Wall Insulated Bottle\", \"7\\\" Dog Frisbee\", \"8 pc Android Sticker Sheet\", \"Aluminum Handy Emergency Flashlight\", \"Android 17oz Stainless Steel Sport Bottle\", \"Android 5-Panel Low Cap\", \"Android BTTF Cosmos Graphic Tee\", \"Android BTTF Moonshot Graphic Tee\", \"Android Hard Cover Journal\", \"Android Infant Short Sleeve Tee Pewter\", \"Android Infant Short Sleeve Tee Pink\", \"Android Lifted Men's Short Sleeve Tee Blue\", \"Android Luggage Tag\", \"Android Lunch Kit\", \"Android Men's  Zip Hoodie\", \"Android Men's Engineer Short Sleeve Tee Charcoal\", \"Android Men's Long & Lean Badge Tee Charcoal\", \"Android Men's Long Sleeve Badge Crew Tee Heather\", \"Android Men's Outerstellar Short Sleeve Tee Black\", \"Android Men's Paradise Short Sleeve Tee Olive\", \"Android Men's Pep Rally Short Sleeve Tee Navy\", \"Android Men's Short Sleeve Hero Tee Heather\", \"Android Men's Short Sleeve Hero Tee White\", \"Android Men's Short Sleeve Tri-blend Hero Tee Grey\", \"Android Men's Take Charge Short Sleeve Tee Purple\", \"Android Men's Vintage Henley\", \"Android Men's Vintage Tank\", \"Android Onesie Gold\", \"Android RFID Journal\", \"Android Rise 14 oz Mug\", \"Android Spiral Journal with Pen\", \"Android Sticker Sheet Ultra Removable\", \"Android Stretch Fit Hat\", \"Android Stretch Fit Hat Black\", \"Android Stretch Fit Hat M/L\", \"Android Stretch Fit Hat S/M\", \"Android Toddler Short Sleeve T-shirt Aqua\", \"Android Toddler Short Sleeve T-shirt Pewter\", \"Android Toddler Short Sleeve T-shirt Pink\", \"Android Twill Cap\", \"Android Women's Fleece Hoodie\", \"Android Women's Long Sleeve Blended Cardigan Grey\", \"Android Women's Short Sleeve Badge Tee Dark Heather\", \"Android Women's Short Sleeve Hero Tee Black\", \"Android Wool Heather Cap Heather/Black\", \"Android Youth Short Sleeve T-shirt Aqua\", \"Android Youth Short Sleeve T-shirt Pewter\", \"BLM Sweatshirt\", \"Badge Holder\", \"Ballpoint LED Light Pen\", \"Ballpoint Pen Blue\", \"Ballpoint Stylus Pen\", \"Basecamp Explorer Powerbank Flashlight\", \"Bottle Opener Clip\", \"Clip-on Compact Charger\", \"Collapsible Shopping Bag\", \"Colored Pencil Set\", \"Compact Selfie Stick\", \"Crunch Noise Dog Toy\", \"Electronics Accessory Pouch\", \"Foam Can and Bottle Cooler\", \"Four Color Retractable Pen\", \"Gift Card - $25.00\", \"Gift Card - $250.00\", \"Gift Card - $50.00\", \"Gift Card- $100.00\", \"Gunmetal Roller Ball Pen\", \"Keyboard DOT Sticker\", \"Leatherette Journal\", \"Maze Pen\", \"Men's Softshell Jacket Black/Grey\", \"Men's Weatherblock Shell Jacket Black\", \"Metal Texture Roller Pen\", \"Micro Wireless Earbud\", \"Pen Pencil & Highlighter Set\", \"Plastic Sliding Flashlight\", \"Recycled Mouse Pad\", \"Recycled Paper Journal Set\", \"Red Shine 15 oz Mug\", \"Red Spiral  Notebook\", \"Rocket Flashlight\", \"Rubber Grip Ballpoint Pen 4 Pack\", \"SPF-15 Slim & Slender Lip Balm\", \"Satin Black Ballpoint Pen\", \"Seat Pack Organizer\", \"Spiral Notebook and Pen Set\", \"Sport Bag\", \"Suitcase Organizer Cubes\", \"Switch Tone Color Crayon Pen\", \"UpCycled Bike Saddle Bag\", \"UpCycled Handlebar Bag\", \"Waterproof Backpack\", \"Waterproof Gear Bag\", \"Windup Android\", \"Women's  Short Sleeve Hero Tee Black\", \"Women's Performance Full Zip Jacket Black\", \"Women's Weatherblock Shell Jacket Black\", \"Yoga Block\", \"Yoga Mat\", \"Yoga Mat Blue\", \"Yoga Mat Purple\"], \"y\": [633, 1390, 36767, 38, 341, 65, 87, 219, 272, 966, 415, 44, 116, 415, 115, 72, 2615, 40, 4683, 602, 205, 124, 4536, 94, 195, 2080, 20, 458, 13, 0, 132, 4217, 84, 52, 38, 51, 123, 333, 229, 0, 723, 178, 1516, 69, 564, 2525, 1142, 181, 354, 451, 1305, 1276, 713, 290, 586, 1632, 263, 463, 1489, 0, 106, 68, 98, 327, 19, 9, 601, 48, 1226, 255, 0, 321, 41, 79, 161, 11, 117, 128, 145, 317, 3, 422, 665, 66, 88, 157, 46, 281, 40, 307, 16, 1, 2, 1904, 1434, 889, 423, 287, 0, 323, 5, 610, 129, 26, 94, 66, 268, 235, 117, 124, 39, 267, 246, 210, 25, 325, 49, 1361, 3272, 228, 1324, 516, 105, 4668, 449, 6, 2164, 12906, 139, 211, 72, 216, 86, 159, 91, 43, 155, 256, 0, 72, 3752, 170, 205, 41, 71, 52, 26, 0, 174, 93, 163, 19, 46, 164, 201, 17, 13, 37, 21, 41, 17, 426, 279, 16, 89, 112, 71, 783, 88, 472, 15, 115, 94, 176, 54, 60, 4, 356, 50, 0, 122, 0, 98, 1048, 178, 254, 464, 1, 107, 7, 121, 0, 0, 79, 24, 69, 51, 19, 194, 185, 64, 189, 307, 679, 652, 1944, 738, 142, 0, 194, 256, 854, 613, 90, 283, 11, 36, 61, 102, 35, 80, 38, 32, 163, 50, 120, 381, 354, 54, 73, 94, 547, 133, 27, 175, 138, 168, 128, 86, 342, 1280, 449, 93, 52, 59, 53, 238, 27, 209, 161, 39, 133, 41, 19, 305, 225, 51, 15, 1186, 2098, 400, 942, 306, 381, 1468, 117, 367, 297, 352, 568, 4495, 2450, 107, 38, 9, 77, 1321, 189, 4978, 324, 3, 78, 775, 234, 1939, 2561, 1756, 5715, 1417, 43, 242, 1791, 4069, 477, 304, 6708, 2877, 342, 388, 79, 107, 230, 261, 1674, 66, 60, 14, 78, 54, 60, 13]}, {\"marker\": {\"color\": \"Green\"}, \"name\": \"restockingLeadTime\", \"type\": \"bar\", \"x\": [\" 17 oz Double Wall Stainless Steel Insulated Bottle\", \" 17oz Stainless Steel Sport Bottle\", \" 22 oz Water Bottle\", \" 2200mAh Micro Charger\", \" 25 oz Red Stainless Steel Bottle\", \" 4400mAh Power Bank\", \" 5-Panel Cap\", \" 5-Panel Snapback Cap\", \" Alpine Style Backpack\", \" Baby Essentials Set\", \" Baby on Board Window Decal\", \" Bib Red\", \" Bib White\", \" Blackout Cap\", \" Bongo Cupholder Bluetooth Speaker\", \" Cam Indoor Security Camera - CA\", \" Cam Indoor Security Camera - USA\", \" Cam Outdoor Security Camera - CA\", \" Cam Outdoor Security Camera - USA\", \" Canvas Tote Natural/Navy\", \" Car Clip Phone Holder\", \" Collapsible Pet Bowl\", \" Custom Decals\", \" Device Holder Sticky Pad\", \" Device Stand\", \" Doodle Decal\", \" Dress Socks\", \" Executive Umbrella\", \" Flashlight\", \" French Terry Cap\", \" G Noise-reducing Bluetooth Headphones\", \" Hard Cover Journal\", \" High Capacity 10,400mAh Charger\", \" Infant Short Sleeve Tee Green\", \" Infant Short Sleeve Tee Red\", \" Infant Short Sleeve Tee Royal Blue\", \" Infant Short Sleeve Tee White\", \" Infant Zip Hood Pink\", \" Infant Zip Hood Royal Blue\", \" Insulated Stainless Steel Bottle\", \" Kick Ball\", \" Laptop Backpack\", \" Laptop and Cell Phone Stickers\", \" Learning Thermostat 3rd Gen - CA - Stainless Steel\", \" Learning Thermostat 3rd Gen-USA - Copper\", \" Learning Thermostat 3rd Gen-USA - Stainless Steel\", \" Learning Thermostat 3rd Gen-USA - White\", \" Leather Journal\", \" Leather Journal-Black\", \" Leather Journal-Brown\", \" Leather Perforated Journal\", \" Leatherette Notebook Combo\", \" Luggage Tag\", \" Lunch Bag\", \" Men's  Zip Hoodie\", \" Men's 100% Cotton Short Sleeve Hero Tee Black\", \" Men's 100% Cotton Short Sleeve Hero Tee Navy\", \" Men's 100% Cotton Short Sleeve Hero Tee Red\", \" Men's 100% Cotton Short Sleeve Hero Tee White\", \" Men's 3/4 Sleeve Henley\", \" Men's Airflow 1/4 Zip Pullover Black\", \" Men's Airflow 1/4 Zip Pullover Lapis\", \" Men's Bayside Graphic Tee\", \" Men's Bike Short Sleeve Tee Charcoal\", \" Men's Colorblock Tee White/Heather\", \" Men's Convertible Vest-Jacket Pewter\", \" Men's Fleece Hoodie Black\", \" Men's Lightweight Microfleece Jacket Black\", \" Men's Long & Lean Tee Charcoal\", \" Men's Long & Lean Tee Grey\", \" Men's Long Sleeve Pullover Badge Tee Heather\", \" Men's Long Sleeve Raglan Ocean Blue\", \" Men's Microfiber 1/4 Zip Pullover Blue/Indigo\", \" Men's Performance 1/4 Zip Pullover Heather/Black\", \" Men's Performance Full Zip Jacket Black\", \" Men's Performance Hero Tee Gunmetal\", \" Men's Pullover Hoodie Grey\", \" Men's Quilted Insulated Vest Battleship Grey\", \" Men's Quilted Insulated Vest Black\", \" Men's Short Sleeve Badge Tee Charcoal\", \" Men's Short Sleeve Hero Tee  White\", \" Men's Short Sleeve Hero Tee Black\", \" Men's Short Sleeve Hero Tee Charcoal\", \" Men's Short Sleeve Hero Tee Heather\", \" Men's Short Sleeve Hero Tee Light Blue\", \" Men's Short Sleeve Hero Tee White\", \" Men's Short Sleeve Performance Badge Tee Black\", \" Men's Short Sleeve Performance Badge Tee Charcoal\", \" Men's Short Sleeve Performance Badge Tee Navy\", \" Men's Short Sleeve Performance Badge Tee Pewter\", \" Men's Short Sleeve Tee\", \" Men's Softshell Jacket Black/Grey\", \" Men's Typography Short Sleeve Tee\", \" Men's Vintage Badge Tee Black\", \" Men's Vintage Badge Tee Sage\", \" Men's Vintage Badge Tee White\", \" Men's Vintage Henley\", \" Men's Vintage Tank\", \" Men's Vintage Tee\", \" Men's Watershed Full Zip Hoodie Grey\", \" Men's Weatherblock Shell Jacket Black\", \" Metallic Notebook Set\", \" Mobile Phone Vent Mount\", \" Mood Happy Window Decal\", \" Mood Ninja Window Decal\", \" Mood Original Window Decal\", \" Onesie Green\", \" Onesie Heather\", \" Onesie Red\", \" Onesie Red/Graphite\", \" Pack of 9 Decal Set\", \" Pet Feeding Mat\", \" Pocket Bluetooth Speaker\", \" Power Bank\", \" Protect Smoke + CO White Battery Alarm - CA\", \" Protect Smoke + CO White Battery Alarm-USA\", \" Protect Smoke + CO White Wired Alarm - CA\", \" Protect Smoke + CO White Wired Alarm-USA\", \" RFID Journal\", \" Rucksack\", \" Screen Cleaning Cloth\", \" Slim Utility Travel Bag\", \" Snapback Hat Black\", \" Spiral Journal with Pen\", \" Spiral Leather Journal\", \" Stretch Fit Hat M/L Navy\", \" Stylus Pen w/ LED Light\", \" Sunglasses\", \" Toddler 1/4 Zip Fleece Pewter\", \" Toddler Hoodie Royal Blue\", \" Toddler Raglan Shirt Blue Heather/Navy\", \" Toddler Short Sleeve T-shirt Grey\", \" Toddler Short Sleeve T-shirt Royal Blue\", \" Toddler Short Sleeve Tee Red\", \" Toddler Short Sleeve Tee White\", \" Toddler Sports T-shirt Red\", \" Tote Bag\", \" Tri-blend Hoodie Grey\", \" Trucker Hat\", \" Tube Power Bank\", \" Twill Cap\", \" Vintage Henley Grey/Black\", \" Water Resistant Bluetooth Speaker\", \" Women's 1/4 Zip Jacket Charcoal\", \" Women's 1/4 Zip Performance Pullover Black\", \" Women's 1/4 Zip Performance Pullover Two-Tone Blue\", \" Women's 3/4 Sleeve Baseball Raglan Heather/Black\", \" Women's Colorblock Tee White\", \" Women's Convertible Vest-Jacket Black\", \" Women's Convertible Vest-Jacket Sea Foam Green\", \" Women's Fleece Hoodie\", \" Women's Fleece Hoodie Black\", \" Women's Lightweight Microfleece Jacket\", \" Women's Long Sleeve Blended Cardigan Charcoal\", \" Women's Long Sleeve Tee Lavender\", \" Women's Performance Full Zip Jacket Black\", \" Women's Performance Golf Polo Blue\", \" Women's Performance Hero Tee Gunmetal\", \" Women's Quilted Insulated Vest Black\", \" Women's Quilted Insulated Vest White\", \" Women's Recycled Fabric Tee\", \" Women's Scoop Neck Tee Black\", \" Women's Scoop Neck Tee White\", \" Women's Shell Jacket Blue/Black\", \" Women's Short Sleeve Badge Tee Grey\", \" Women's Short Sleeve Badge Tee Navy\", \" Women's Short Sleeve Hero Dark Grey\", \" Women's Short Sleeve Hero Tee Black\", \" Women's Short Sleeve Hero Tee Charcoal\", \" Women's Short Sleeve Hero Tee Grey\", \" Women's Short Sleeve Hero Tee Heather\", \" Women's Short Sleeve Hero Tee Red Heather\", \" Women's Short Sleeve Hero Tee Sky Blue\", \" Women's Short Sleeve Hero Tee White\", \" Women's Short Sleeve Performance Tee Charcoal\", \" Women's Short Sleeve Performance Tee Pewter\", \" Women's Short Sleeve Tee\", \" Women's Short Sleeve Tri-blend Badge Tee Charcoal\", \" Women's Short Sleeve Tri-blend Badge Tee Grey\", \" Women's Softshell Jacket Black/Grey\", \" Women's Tee Grey\", \" Women's Typography Short Sleeve Tee\", \" Women's V-Neck Tee Charcoal\", \" Women's Vintage Hero Tee Black\", \" Women's Vintage Hero Tee Lavender\", \" Women's Vintage Hero Tee Platinum\", \" Women's Vintage Hero Tee White\", \" Women's Weatherblock Shell Jacket Black\", \" Women's Yoga Jacket Black\", \" Women's Yoga Pants\", \" Womens 3/4 Sleeve Baseball Raglan Heather/Black\", \" Wool Heather Cap Heather/Black\", \" Wool Heather Cap Heather/Navy\", \" Youth Baseball Raglan Heather/Black\", \" Youth Girl Hoodie\", \" Youth Girl Tee Green\", \" Youth Short Sleeve T-shirt Green\", \" Youth Short Sleeve T-shirt Royal Blue\", \" Youth Short Sleeve T-shirt Yellow\", \" Youth Short Sleeve Tee Red\", \" Youth Short Sleeve Tee White\", \" Youth Sports Tee Navy\", \" Zipper-front Sports Bag\", \"1 oz Hand Sanitizer\", \"20 oz Stainless Steel Insulated Tumbler\", \"22 oz  Bottle Infuser\", \"22 oz Android Bottle\", \"23 oz Wide Mouth Sport Bottle\", \"24 oz  Sergeant Stripe Bottle\", \"25L Classic Rucksack\", \"26 oz Double Wall Insulated Bottle\", \"7\\\" Dog Frisbee\", \"8 pc Android Sticker Sheet\", \"Aluminum Handy Emergency Flashlight\", \"Android 17oz Stainless Steel Sport Bottle\", \"Android 5-Panel Low Cap\", \"Android BTTF Cosmos Graphic Tee\", \"Android BTTF Moonshot Graphic Tee\", \"Android Hard Cover Journal\", \"Android Infant Short Sleeve Tee Pewter\", \"Android Infant Short Sleeve Tee Pink\", \"Android Lifted Men's Short Sleeve Tee Blue\", \"Android Luggage Tag\", \"Android Lunch Kit\", \"Android Men's  Zip Hoodie\", \"Android Men's Engineer Short Sleeve Tee Charcoal\", \"Android Men's Long & Lean Badge Tee Charcoal\", \"Android Men's Long Sleeve Badge Crew Tee Heather\", \"Android Men's Outerstellar Short Sleeve Tee Black\", \"Android Men's Paradise Short Sleeve Tee Olive\", \"Android Men's Pep Rally Short Sleeve Tee Navy\", \"Android Men's Short Sleeve Hero Tee Heather\", \"Android Men's Short Sleeve Hero Tee White\", \"Android Men's Short Sleeve Tri-blend Hero Tee Grey\", \"Android Men's Take Charge Short Sleeve Tee Purple\", \"Android Men's Vintage Henley\", \"Android Men's Vintage Tank\", \"Android Onesie Gold\", \"Android RFID Journal\", \"Android Rise 14 oz Mug\", \"Android Spiral Journal with Pen\", \"Android Sticker Sheet Ultra Removable\", \"Android Stretch Fit Hat\", \"Android Stretch Fit Hat Black\", \"Android Stretch Fit Hat M/L\", \"Android Stretch Fit Hat S/M\", \"Android Toddler Short Sleeve T-shirt Aqua\", \"Android Toddler Short Sleeve T-shirt Pewter\", \"Android Toddler Short Sleeve T-shirt Pink\", \"Android Twill Cap\", \"Android Women's Fleece Hoodie\", \"Android Women's Long Sleeve Blended Cardigan Grey\", \"Android Women's Short Sleeve Badge Tee Dark Heather\", \"Android Women's Short Sleeve Hero Tee Black\", \"Android Wool Heather Cap Heather/Black\", \"Android Youth Short Sleeve T-shirt Aqua\", \"Android Youth Short Sleeve T-shirt Pewter\", \"BLM Sweatshirt\", \"Badge Holder\", \"Ballpoint LED Light Pen\", \"Ballpoint Pen Blue\", \"Ballpoint Stylus Pen\", \"Basecamp Explorer Powerbank Flashlight\", \"Bottle Opener Clip\", \"Clip-on Compact Charger\", \"Collapsible Shopping Bag\", \"Colored Pencil Set\", \"Compact Selfie Stick\", \"Crunch Noise Dog Toy\", \"Electronics Accessory Pouch\", \"Foam Can and Bottle Cooler\", \"Four Color Retractable Pen\", \"Gift Card - $25.00\", \"Gift Card - $250.00\", \"Gift Card - $50.00\", \"Gift Card- $100.00\", \"Gunmetal Roller Ball Pen\", \"Keyboard DOT Sticker\", \"Leatherette Journal\", \"Maze Pen\", \"Men's Softshell Jacket Black/Grey\", \"Men's Weatherblock Shell Jacket Black\", \"Metal Texture Roller Pen\", \"Micro Wireless Earbud\", \"Pen Pencil & Highlighter Set\", \"Plastic Sliding Flashlight\", \"Recycled Mouse Pad\", \"Recycled Paper Journal Set\", \"Red Shine 15 oz Mug\", \"Red Spiral  Notebook\", \"Rocket Flashlight\", \"Rubber Grip Ballpoint Pen 4 Pack\", \"SPF-15 Slim & Slender Lip Balm\", \"Satin Black Ballpoint Pen\", \"Seat Pack Organizer\", \"Spiral Notebook and Pen Set\", \"Sport Bag\", \"Suitcase Organizer Cubes\", \"Switch Tone Color Crayon Pen\", \"UpCycled Bike Saddle Bag\", \"UpCycled Handlebar Bag\", \"Waterproof Backpack\", \"Waterproof Gear Bag\", \"Windup Android\", \"Women's  Short Sleeve Hero Tee Black\", \"Women's Performance Full Zip Jacket Black\", \"Women's Weatherblock Shell Jacket Black\", \"Yoga Block\", \"Yoga Mat\", \"Yoga Mat Blue\", \"Yoga Mat Purple\"], \"y\": [22, 31, 15, 11, 30, 14, 5, 8, 26, 46, 26, 15, 6, 6, 18, 19, 52, 18, 28, 15, 23, 41, 14, 16, 15, 12, 6, 23, 20, 17, 18, 44, 31, 7, 63, 50, 54, 56, 61, 16, 5, 23, 3, 14, 28, 15, 16, 17, 25, 25, 20, 2, 39, 17, 82, 80, 68, 66, 75, 11, 90, 72, 82, 66, 64, 50, 108, 46, 187, 101, 17, 127, 79, 86, 70, 25, 70, 84, 62, 66, 13, 73, 174, 39, 85, 27, 58, 81, 14, 59, 76, 26, 17, 54, 82, 91, 79, 125, 12, 95, 27, 5, 22, 6, 20, 19, 85, 78, 70, 53, 32, 52, 14, 7, 9, 18, 15, 13, 35, 10, 20, 20, 15, 10, 27, 6, 50, 37, 72, 76, 71, 11, 67, 121, 55, 68, 12, 104, 32, 19, 7, 43, 6, 63, 64, 59, 26, 8, 84, 69, 75, 48, 98, 79, 87, 27, 70, 87, 68, 43, 25, 48, 75, 45, 61, 65, 64, 83, 77, 65, 42, 78, 85, 42, 72, 51, 39, 74, 82, 29, 91, 52, 47, 72, 82, 62, 70, 13, 91, 31, 52, 15, 6, 93, 63, 70, 31, 26, 55, 130, 47, 78, 16, 15, 10, 7, 4, 12, 17, 77, 17, 21, 25, 9, 8, 16, 81, 72, 35, 51, 46, 56, 22, 24, 59, 51, 79, 93, 51, 64, 64, 90, 26, 38, 75, 102, 60, 73, 18, 7, 9, 13, 58, 19, 13, 12, 53, 27, 85, 5, 39, 73, 78, 41, 14, 70, 53, 71, 2, 11, 8, 11, 19, 10, 27, 11, 13, 7, 28, 29, 26, 22, 21, 22, 19, 20, 45, 9, 36, 9, 9, 46, 11, 21, 5, 19, 39, 18, 20, 8, 11, 8, 31, 18, 18, 11, 17, 14, 12, 20, 19, 28, 27, 11, 40, 46, 46, 27, 24, 21, 28]}],\n",
              "                        {\"bargap\": 0.15, \"bargroupgap\": 0.1, \"barmode\": \"group\", \"legend\": {\"bgcolor\": \"rgba(255, 255, 255, 0)\", \"bordercolor\": \"rgba(255, 255, 255, 0)\", \"x\": 0, \"y\": 1.0}, \"template\": {\"data\": {\"bar\": [{\"error_x\": {\"color\": \"#2a3f5f\"}, \"error_y\": {\"color\": \"#2a3f5f\"}, \"marker\": {\"line\": {\"color\": \"#E5ECF6\", \"width\": 0.5}}, \"type\": \"bar\"}], \"barpolar\": [{\"marker\": {\"line\": {\"color\": \"#E5ECF6\", \"width\": 0.5}}, \"type\": \"barpolar\"}], \"carpet\": [{\"aaxis\": {\"endlinecolor\": \"#2a3f5f\", \"gridcolor\": \"white\", \"linecolor\": \"white\", \"minorgridcolor\": \"white\", \"startlinecolor\": \"#2a3f5f\"}, \"baxis\": {\"endlinecolor\": \"#2a3f5f\", \"gridcolor\": \"white\", \"linecolor\": \"white\", \"minorgridcolor\": \"white\", \"startlinecolor\": \"#2a3f5f\"}, \"type\": \"carpet\"}], \"choropleth\": [{\"colorbar\": {\"outlinewidth\": 0, \"ticks\": \"\"}, \"type\": \"choropleth\"}], \"contour\": [{\"colorbar\": {\"outlinewidth\": 0, \"ticks\": \"\"}, \"colorscale\": [[0.0, \"#0d0887\"], [0.1111111111111111, \"#46039f\"], [0.2222222222222222, \"#7201a8\"], [0.3333333333333333, \"#9c179e\"], [0.4444444444444444, \"#bd3786\"], [0.5555555555555556, \"#d8576b\"], [0.6666666666666666, \"#ed7953\"], [0.7777777777777778, \"#fb9f3a\"], [0.8888888888888888, \"#fdca26\"], [1.0, \"#f0f921\"]], \"type\": \"contour\"}], \"contourcarpet\": [{\"colorbar\": {\"outlinewidth\": 0, \"ticks\": \"\"}, \"type\": \"contourcarpet\"}], \"heatmap\": [{\"colorbar\": {\"outlinewidth\": 0, \"ticks\": \"\"}, \"colorscale\": [[0.0, \"#0d0887\"], [0.1111111111111111, \"#46039f\"], [0.2222222222222222, \"#7201a8\"], [0.3333333333333333, \"#9c179e\"], [0.4444444444444444, \"#bd3786\"], [0.5555555555555556, \"#d8576b\"], [0.6666666666666666, \"#ed7953\"], [0.7777777777777778, \"#fb9f3a\"], [0.8888888888888888, \"#fdca26\"], [1.0, \"#f0f921\"]], \"type\": \"heatmap\"}], \"heatmapgl\": [{\"colorbar\": {\"outlinewidth\": 0, \"ticks\": \"\"}, \"colorscale\": [[0.0, \"#0d0887\"], [0.1111111111111111, \"#46039f\"], [0.2222222222222222, \"#7201a8\"], [0.3333333333333333, \"#9c179e\"], [0.4444444444444444, \"#bd3786\"], [0.5555555555555556, \"#d8576b\"], [0.6666666666666666, \"#ed7953\"], [0.7777777777777778, \"#fb9f3a\"], [0.8888888888888888, \"#fdca26\"], [1.0, \"#f0f921\"]], \"type\": \"heatmapgl\"}], \"histogram\": [{\"marker\": {\"colorbar\": {\"outlinewidth\": 0, \"ticks\": \"\"}}, \"type\": \"histogram\"}], \"histogram2d\": [{\"colorbar\": {\"outlinewidth\": 0, \"ticks\": \"\"}, \"colorscale\": [[0.0, \"#0d0887\"], [0.1111111111111111, \"#46039f\"], [0.2222222222222222, \"#7201a8\"], [0.3333333333333333, \"#9c179e\"], [0.4444444444444444, \"#bd3786\"], [0.5555555555555556, \"#d8576b\"], [0.6666666666666666, \"#ed7953\"], [0.7777777777777778, \"#fb9f3a\"], [0.8888888888888888, \"#fdca26\"], [1.0, \"#f0f921\"]], \"type\": \"histogram2d\"}], \"histogram2dcontour\": [{\"colorbar\": {\"outlinewidth\": 0, \"ticks\": \"\"}, \"colorscale\": [[0.0, \"#0d0887\"], [0.1111111111111111, \"#46039f\"], [0.2222222222222222, \"#7201a8\"], [0.3333333333333333, \"#9c179e\"], [0.4444444444444444, \"#bd3786\"], [0.5555555555555556, \"#d8576b\"], [0.6666666666666666, \"#ed7953\"], [0.7777777777777778, \"#fb9f3a\"], [0.8888888888888888, \"#fdca26\"], [1.0, \"#f0f921\"]], \"type\": \"histogram2dcontour\"}], \"mesh3d\": [{\"colorbar\": {\"outlinewidth\": 0, \"ticks\": \"\"}, \"type\": \"mesh3d\"}], \"parcoords\": [{\"line\": {\"colorbar\": {\"outlinewidth\": 0, \"ticks\": \"\"}}, \"type\": \"parcoords\"}], \"pie\": [{\"automargin\": true, \"type\": \"pie\"}], \"scatter\": [{\"marker\": {\"colorbar\": {\"outlinewidth\": 0, \"ticks\": \"\"}}, \"type\": \"scatter\"}], \"scatter3d\": [{\"line\": {\"colorbar\": {\"outlinewidth\": 0, \"ticks\": \"\"}}, \"marker\": {\"colorbar\": {\"outlinewidth\": 0, \"ticks\": \"\"}}, \"type\": \"scatter3d\"}], \"scattercarpet\": [{\"marker\": {\"colorbar\": {\"outlinewidth\": 0, \"ticks\": \"\"}}, \"type\": \"scattercarpet\"}], \"scattergeo\": [{\"marker\": {\"colorbar\": {\"outlinewidth\": 0, \"ticks\": \"\"}}, \"type\": \"scattergeo\"}], \"scattergl\": [{\"marker\": {\"colorbar\": {\"outlinewidth\": 0, \"ticks\": \"\"}}, \"type\": \"scattergl\"}], \"scattermapbox\": [{\"marker\": {\"colorbar\": {\"outlinewidth\": 0, \"ticks\": \"\"}}, \"type\": \"scattermapbox\"}], \"scatterpolar\": [{\"marker\": {\"colorbar\": {\"outlinewidth\": 0, \"ticks\": \"\"}}, \"type\": \"scatterpolar\"}], \"scatterpolargl\": [{\"marker\": {\"colorbar\": {\"outlinewidth\": 0, \"ticks\": \"\"}}, \"type\": \"scatterpolargl\"}], \"scatterternary\": [{\"marker\": {\"colorbar\": {\"outlinewidth\": 0, \"ticks\": \"\"}}, \"type\": \"scatterternary\"}], \"surface\": [{\"colorbar\": {\"outlinewidth\": 0, \"ticks\": \"\"}, \"colorscale\": [[0.0, \"#0d0887\"], [0.1111111111111111, \"#46039f\"], [0.2222222222222222, \"#7201a8\"], [0.3333333333333333, \"#9c179e\"], [0.4444444444444444, \"#bd3786\"], [0.5555555555555556, \"#d8576b\"], [0.6666666666666666, \"#ed7953\"], [0.7777777777777778, \"#fb9f3a\"], [0.8888888888888888, \"#fdca26\"], [1.0, \"#f0f921\"]], \"type\": \"surface\"}], \"table\": [{\"cells\": {\"fill\": {\"color\": \"#EBF0F8\"}, \"line\": {\"color\": \"white\"}}, \"header\": {\"fill\": {\"color\": \"#C8D4E3\"}, \"line\": {\"color\": \"white\"}}, \"type\": \"table\"}]}, \"layout\": {\"annotationdefaults\": {\"arrowcolor\": \"#2a3f5f\", \"arrowhead\": 0, \"arrowwidth\": 1}, \"coloraxis\": {\"colorbar\": {\"outlinewidth\": 0, \"ticks\": \"\"}}, \"colorscale\": {\"diverging\": [[0, \"#8e0152\"], [0.1, \"#c51b7d\"], [0.2, \"#de77ae\"], [0.3, \"#f1b6da\"], [0.4, \"#fde0ef\"], [0.5, \"#f7f7f7\"], [0.6, \"#e6f5d0\"], [0.7, \"#b8e186\"], [0.8, \"#7fbc41\"], [0.9, \"#4d9221\"], [1, \"#276419\"]], \"sequential\": [[0.0, \"#0d0887\"], [0.1111111111111111, \"#46039f\"], [0.2222222222222222, \"#7201a8\"], [0.3333333333333333, \"#9c179e\"], [0.4444444444444444, \"#bd3786\"], [0.5555555555555556, \"#d8576b\"], [0.6666666666666666, \"#ed7953\"], [0.7777777777777778, \"#fb9f3a\"], [0.8888888888888888, \"#fdca26\"], [1.0, \"#f0f921\"]], \"sequentialminus\": [[0.0, \"#0d0887\"], [0.1111111111111111, \"#46039f\"], [0.2222222222222222, \"#7201a8\"], [0.3333333333333333, \"#9c179e\"], [0.4444444444444444, \"#bd3786\"], [0.5555555555555556, \"#d8576b\"], [0.6666666666666666, \"#ed7953\"], [0.7777777777777778, \"#fb9f3a\"], [0.8888888888888888, \"#fdca26\"], [1.0, \"#f0f921\"]]}, \"colorway\": [\"#636efa\", \"#EF553B\", \"#00cc96\", \"#ab63fa\", \"#FFA15A\", \"#19d3f3\", \"#FF6692\", \"#B6E880\", \"#FF97FF\", \"#FECB52\"], \"font\": {\"color\": \"#2a3f5f\"}, \"geo\": {\"bgcolor\": \"white\", \"lakecolor\": \"white\", \"landcolor\": \"#E5ECF6\", \"showlakes\": true, \"showland\": true, \"subunitcolor\": \"white\"}, \"hoverlabel\": {\"align\": \"left\"}, \"hovermode\": \"closest\", \"mapbox\": {\"style\": \"light\"}, \"paper_bgcolor\": \"white\", \"plot_bgcolor\": \"#E5ECF6\", \"polar\": {\"angularaxis\": {\"gridcolor\": \"white\", \"linecolor\": \"white\", \"ticks\": \"\"}, \"bgcolor\": \"#E5ECF6\", \"radialaxis\": {\"gridcolor\": \"white\", \"linecolor\": \"white\", \"ticks\": \"\"}}, \"scene\": {\"xaxis\": {\"backgroundcolor\": \"#E5ECF6\", \"gridcolor\": \"white\", \"gridwidth\": 2, \"linecolor\": \"white\", \"showbackground\": true, \"ticks\": \"\", \"zerolinecolor\": \"white\"}, \"yaxis\": {\"backgroundcolor\": \"#E5ECF6\", \"gridcolor\": \"white\", \"gridwidth\": 2, \"linecolor\": \"white\", \"showbackground\": true, \"ticks\": \"\", \"zerolinecolor\": \"white\"}, \"zaxis\": {\"backgroundcolor\": \"#E5ECF6\", \"gridcolor\": \"white\", \"gridwidth\": 2, \"linecolor\": \"white\", \"showbackground\": true, \"ticks\": \"\", \"zerolinecolor\": \"white\"}}, \"shapedefaults\": {\"line\": {\"color\": \"#2a3f5f\"}}, \"ternary\": {\"aaxis\": {\"gridcolor\": \"white\", \"linecolor\": \"white\", \"ticks\": \"\"}, \"baxis\": {\"gridcolor\": \"white\", \"linecolor\": \"white\", \"ticks\": \"\"}, \"bgcolor\": \"#E5ECF6\", \"caxis\": {\"gridcolor\": \"white\", \"linecolor\": \"white\", \"ticks\": \"\"}}, \"title\": {\"x\": 0.05}, \"xaxis\": {\"automargin\": true, \"gridcolor\": \"white\", \"linecolor\": \"white\", \"ticks\": \"\", \"title\": {\"standoff\": 15}, \"zerolinecolor\": \"white\", \"zerolinewidth\": 2}, \"yaxis\": {\"automargin\": true, \"gridcolor\": \"white\", \"linecolor\": \"white\", \"ticks\": \"\", \"title\": {\"standoff\": 15}, \"zerolinecolor\": \"white\", \"zerolinewidth\": 2}}}, \"title\": {\"text\": \"Worldwide E-commerce Cases - orderedQuantity, stockLevel, restockingLeadTime\"}, \"xaxis\": {\"tickfont\": {\"size\": 14}}, \"yaxis\": {\"tickfont\": {\"size\": 14}, \"title\": {\"font\": {\"size\": 16}, \"text\": \"Number of Cases\"}}},\n",
              "                        {\"responsive\": true}\n",
              "                    ).then(function(){\n",
              "                            \n",
              "var gd = document.getElementById('be76c60f-8931-42ad-b450-dc6479da39ea');\n",
              "var x = new MutationObserver(function (mutations, observer) {{\n",
              "        var display = window.getComputedStyle(gd).display;\n",
              "        if (!display || display === 'none') {{\n",
              "            console.log([gd, 'removed!']);\n",
              "            Plotly.purge(gd);\n",
              "            observer.disconnect();\n",
              "        }}\n",
              "}});\n",
              "\n",
              "// Listen for the removal of the full notebook cells\n",
              "var notebookContainer = gd.closest('#notebook-container');\n",
              "if (notebookContainer) {{\n",
              "    x.observe(notebookContainer, {childList: true});\n",
              "}}\n",
              "\n",
              "// Listen for the clearing of the current output cell\n",
              "var outputEl = gd.closest('.output');\n",
              "if (outputEl) {{\n",
              "    x.observe(outputEl, {childList: true});\n",
              "}}\n",
              "\n",
              "                        })\n",
              "                };\n",
              "                \n",
              "            </script>\n",
              "        </div>\n",
              "</body>\n",
              "</html>"
            ]
          },
          "metadata": {
            "tags": []
          }
        }
      ]
    },
    {
      "cell_type": "code",
      "metadata": {
        "id": "F1nclC9SY228",
        "colab_type": "code",
        "colab": {
          "base_uri": "https://localhost:8080/",
          "height": 282
        },
        "outputId": "a4533005-8e32-4f99-8e31-b7191f719b14"
      },
      "source": [
        "plt.plot(df['orderedQuantity'])"
      ],
      "execution_count": 45,
      "outputs": [
        {
          "output_type": "execute_result",
          "data": {
            "text/plain": [
              "[<matplotlib.lines.Line2D at 0x7f7e11f77550>]"
            ]
          },
          "metadata": {
            "tags": []
          },
          "execution_count": 45
        },
        {
          "output_type": "display_data",
          "data": {
            "image/png": "[encoded data removed]",
            "text/plain": [
              "<Figure size 432x288 with 1 Axes>"
            ]
          },
          "metadata": {
            "tags": []
          }
        }
      ]
    }
  ]
}